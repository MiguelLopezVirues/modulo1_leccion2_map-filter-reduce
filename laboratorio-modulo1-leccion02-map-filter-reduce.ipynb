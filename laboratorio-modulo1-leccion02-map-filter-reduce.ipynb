{
 "cells": [
  {
   "cell_type": "markdown",
   "metadata": {},
   "source": [
    "\n",
    "<div style=\"text-align: center;\">\n",
    "  <img src=\"https://github.com/Hack-io-Data/Imagenes/blob/main/01-LogosHackio/logo_celeste@4x.png?raw=true\" alt=\"esquema\" />\n",
    "</div>\n"
   ]
  },
  {
   "cell_type": "markdown",
   "metadata": {},
   "source": [
    "# Laboratorio de Python: map(), filter() y reduce()"
   ]
  },
  {
   "cell_type": "markdown",
   "metadata": {},
   "source": [
    "## Ejercicio 1. map ()"
   ]
  },
  {
   "cell_type": "markdown",
   "metadata": {},
   "source": [
    "1.1. Dada una lista de números, obtén una nueva lista con el doble de cada valor.\n",
    "\n",
    "1.2. Genera una función que al recibir una frase devuelva una lista con la longitud de cada palabra. Nota: también se puede solucionar con una `lambda`. \n",
    "\n",
    "1.3. Genera una función que convierta una lista de tuplas a una lista de strings, por ejemplo: \n",
    "\n",
    "```python\n",
    "lista_de_tuplas = [(\"Juan\", \"Pérez\"),(\"María\", \"García\"),(\"Luis\", \"Martínez\"),(\"Ana\", \"López\"),(\"Carlos\", \"Sánchez\"),(\"Elena\", \"Fernández\"),(\"Miguel\", \"González\")]\n",
    "\n",
    "\n",
    "# output esperado\n",
    "['Juan Pérez',\n",
    "'María García',\n",
    "'Luis Martínez',\n",
    "'Ana López',\n",
    "'Carlos Sánchez',\n",
    "'Elena Fernández',\n",
    "'Miguel González']\n",
    "```\n",
    "\n",
    "1.4. Crea una función que calcule la diferencia entre los valores correspondientes de dos listas. Debrás restar los elementos de las dos listas, devolviendo una nueva lista con las diferencias. Por ejemplo: \n",
    "\n",
    "```python\n",
    "# input\n",
    "numeros = [4, 8, 15, 16, 23, 42]\n",
    "numeros_2 = [5, 12, 37, 8, 23, 45]\n",
    "\n",
    "# output\n",
    "[1, 4, 22, -8, 0, 3]\n",
    "```\n",
    "\n",
    "1.5. Genera una función la cual, para un conjunto de caracteres, devuelva una lista de tuplas con cada letra en mayúsculas y minúsculas. Importante, no puede haber dos tuplas que contengan las mismas letras. Ejemplo:\n",
    "\n",
    "```python\n",
    "conjunto_caracteres = {'a', 'b', 'E', 'f', 'a', 'i', 'o', 'U', 'a'}\n",
    "\n",
    "# output\n",
    "{('A', 'a'),\n",
    " ('B', 'b'),\n",
    " ('E', 'e'),\n",
    " ('F', 'f'),\n",
    " ('I', 'i'),\n",
    " ('O', 'o'),\n",
    " ('U', 'u')}\n",
    "```\n",
    "\n",
    " "
   ]
  },
  {
   "cell_type": "code",
   "execution_count": 5,
   "metadata": {},
   "outputs": [
    {
     "name": "stdout",
     "output_type": "stream",
     "text": [
      "[10, 4, 6, 1, 5, 3, 7, 9, 2, 8]\n",
      "[20, 8, 12, 2, 10, 6, 14, 18, 4, 16]\n"
     ]
    }
   ],
   "source": [
    "import random\n",
    "## Ejercicio 1.1\n",
    "lista = random.sample(range(1,11),10)\n",
    "lista_doble = list(map(lambda x: x*2, lista))\n",
    "print(lista)\n",
    "print(lista_doble)"
   ]
  },
  {
   "cell_type": "code",
   "execution_count": 6,
   "metadata": {},
   "outputs": [
    {
     "data": {
      "text/plain": [
       "[2, 4, 7, 2, 7, 10, 2, 5, 3, 5, 1, 6, 2, 5, 3, 9, 4, 9, 2, 10, 3, 8, 2, 8]"
      ]
     },
     "execution_count": 6,
     "metadata": {},
     "output_type": "execute_result"
    }
   ],
   "source": [
    "## Ejercicio 1.2\n",
    "frase = \"En este método, se utiliza fácilmente un bucle que itera a través de todos los elementos para comprobar la existencia del elemento de destino.\"\n",
    "longitudes = list(map(lambda x: len(x),frase.split()))\n",
    "longitudes"
   ]
  },
  {
   "cell_type": "markdown",
   "metadata": {},
   "source": [
    "1.3. Genera una función que convierta una lista de tuplas a una lista de strings, por ejemplo: \n",
    "\n",
    "```python\n",
    "lista_de_tuplas = [(\"Juan\", \"Pérez\"),(\"María\", \"García\"),(\"Luis\", \"Martínez\"),(\"Ana\", \"López\"),(\"Carlos\", \"Sánchez\"),(\"Elena\", \"Fernández\"),(\"Miguel\", \"González\")]\n",
    "\n",
    "\n",
    "# output esperado\n",
    "['Juan Pérez',\n",
    "'María García',\n",
    "'Luis Martínez',\n",
    "'Ana López',\n",
    "'Carlos Sánchez',\n",
    "'Elena Fernández',\n",
    "'Miguel González']"
   ]
  },
  {
   "cell_type": "code",
   "execution_count": 9,
   "metadata": {},
   "outputs": [
    {
     "data": {
      "text/plain": [
       "['Juan Pérez',\n",
       " 'María García',\n",
       " 'Luis Martínez',\n",
       " 'Ana López',\n",
       " 'Carlos Sánchez',\n",
       " 'Elena Fernández',\n",
       " 'Miguel González']"
      ]
     },
     "execution_count": 9,
     "metadata": {},
     "output_type": "execute_result"
    }
   ],
   "source": [
    "## Ejericio 1.3\n",
    "def nombre_apellido(tupla):\n",
    "    return tupla[0] + \" \" + tupla[1]\n",
    "\n",
    "lista_de_tuplas = [(\"Juan\", \"Pérez\"),(\"María\", \"García\"),(\"Luis\", \"Martínez\"),(\"Ana\", \"López\"),(\"Carlos\", \"Sánchez\"),(\"Elena\", \"Fernández\"),(\"Miguel\", \"González\")]\n",
    "\n",
    "lista_unida = list(map(nombre_apellido,lista_de_tuplas))\n",
    "lista_unida"
   ]
  },
  {
   "cell_type": "code",
   "execution_count": null,
   "metadata": {},
   "outputs": [],
   "source": []
  },
  {
   "cell_type": "markdown",
   "metadata": {},
   "source": [
    "1.4. Crea una función que calcule la diferencia entre los valores correspondientes de dos listas. Debrás restar los elementos de las dos listas, devolviendo una nueva lista con las diferencias. Por ejemplo: \n",
    "\n",
    "```python\n",
    "# input\n",
    "numeros = [4, 8, 15, 16, 23, 42]\n",
    "numeros_2 = [5, 12, 37, 8, 23, 45]\n",
    "\n",
    "# output\n",
    "[1, 4, 22, -8, 0, 3]\n",
    "```"
   ]
  },
  {
   "cell_type": "code",
   "execution_count": 13,
   "metadata": {},
   "outputs": [
    {
     "data": {
      "text/plain": [
       "[1, 4, 22, -8, 0, 3]"
      ]
     },
     "execution_count": 13,
     "metadata": {},
     "output_type": "execute_result"
    }
   ],
   "source": [
    "## Ejercicio 1.4\n",
    "numeros = [4, 8, 15, 16, 23, 42]\n",
    "numeros_2 = [5, 12, 37, 8, 23, 45]\n",
    "\n",
    "def diferencia(elemento1,elemento2):\n",
    "    return elemento2 - elemento1\n",
    "\n",
    "list(map(diferencia, numeros,numeros_2))"
   ]
  },
  {
   "cell_type": "markdown",
   "metadata": {},
   "source": [
    "1.5. Genera una función la cual, para un conjunto de caracteres, devuelva una lista de tuplas con cada letra en mayúsculas y minúsculas. Importante, no puede haber dos tuplas que contengan las mismas letras. Ejemplo:\n",
    "\n",
    "```python\n",
    "conjunto_caracteres = {'a', 'b', 'E', 'f', 'a', 'i', 'o', 'U', 'a'}\n",
    "\n",
    "# output\n",
    "{('A', 'a'),\n",
    " ('B', 'b'),\n",
    " ('E', 'e'),\n",
    " ('F', 'f'),\n",
    " ('I', 'i'),\n",
    " ('O', 'o'),\n",
    " ('U', 'u')}\n",
    "```"
   ]
  },
  {
   "cell_type": "code",
   "execution_count": 19,
   "metadata": {},
   "outputs": [
    {
     "data": {
      "text/plain": [
       "[('E', 'e'),\n",
       " ('F', 'f'),\n",
       " ('A', 'a'),\n",
       " ('I', 'i'),\n",
       " ('U', 'u'),\n",
       " ('B', 'b'),\n",
       " ('O', 'o')]"
      ]
     },
     "execution_count": 19,
     "metadata": {},
     "output_type": "execute_result"
    }
   ],
   "source": [
    "conjunto_caracteres = {'a', 'b', 'E','u', 'f', 'a', 'i', 'o', 'U', 'a'}\n",
    "\n",
    "list(set(map(lambda x: (x.upper(),x.lower()),conjunto_caracteres)))"
   ]
  },
  {
   "cell_type": "markdown",
   "metadata": {},
   "source": [
    "## Ejercicio 2. Filter ()"
   ]
  },
  {
   "cell_type": "markdown",
   "metadata": {},
   "source": [
    "2.1. Crea una función que devuelva las palabras de una lista que comienzan con una letra específica. Por ejemplo:\n",
    "\n",
    "```python\n",
    "# input\n",
    "frase = 'Incluso la persona más pequeña puede cambiar el curso del futuro.'\n",
    "letra = 'p'\n",
    "\n",
    "# output\n",
    "['persona', 'pequeña', 'puede']\n",
    "```"
   ]
  },
  {
   "cell_type": "code",
   "execution_count": 24,
   "metadata": {},
   "outputs": [
    {
     "data": {
      "text/plain": [
       "['persona', 'pequeña', 'puede']"
      ]
     },
     "execution_count": 24,
     "metadata": {},
     "output_type": "execute_result"
    }
   ],
   "source": [
    "frase = 'Incluso la persona más pequeña puede cambiar el curso del futuro.'\n",
    "letra = 'p'\n",
    "\n",
    "list(filter(lambda x: x.startswith(letra),frase.split()))"
   ]
  },
  {
   "cell_type": "markdown",
   "metadata": {},
   "source": [
    "2.2. Para una lista con elementos tipo *integer* y *string*, obtén una nueva lista sólo con los valores de tipo *integer*."
   ]
  },
  {
   "cell_type": "code",
   "execution_count": 26,
   "metadata": {},
   "outputs": [
    {
     "data": {
      "text/plain": [
       "[5, 94, 117]"
      ]
     },
     "execution_count": 26,
     "metadata": {},
     "output_type": "execute_result"
    }
   ],
   "source": [
    "lista_mixta = [5, \"hola\", 94,\"hellohello\",117, \"como tamos?\"]\n",
    "\n",
    "list(filter(lambda x: isinstance(x,int),lista_mixta))"
   ]
  },
  {
   "cell_type": "markdown",
   "metadata": {},
   "source": [
    "\n",
    "\n",
    "2.3. Escribe una función que tome una lista de nombres de mascotas como parámetro y devuelva una nueva lista excluyendo ciertas mascotas prohibidas en España. La lista de mascotas a excluir es [\"Mapache\", \"Tigre\", \"Serpiente Pitón\", \"Cocodrilo\", \"Oso\"].\n",
    "\n",
    "```python\n",
    "#input\n",
    "mascotas = ['Perro', 'Tigre', 'Gato', 'Oso', 'Erizo']\n",
    "\n",
    "# output\n",
    "['Perro', 'Gato', 'Erizo']\n",
    "```\n",
    "\n"
   ]
  },
  {
   "cell_type": "code",
   "execution_count": 28,
   "metadata": {},
   "outputs": [
    {
     "data": {
      "text/plain": [
       "['Perro', 'Gato', 'Erizo']"
      ]
     },
     "execution_count": 28,
     "metadata": {},
     "output_type": "execute_result"
    }
   ],
   "source": [
    "animales_prohibidos = [\"Mapache\", \"Tigre\", \"Serpiente Pitón\", \"Cocodrilo\", \"Oso\"]\n",
    "mascotas = ['Perro', 'Tigre', 'Gato', 'Oso', 'Erizo']\n",
    "\n",
    "list(filter(lambda x: x not in animales_prohibidos,mascotas))"
   ]
  },
  {
   "cell_type": "markdown",
   "metadata": {},
   "source": [
    "\n",
    "2.4. Escribe un programa en Python que cree una lista de diccionarios que contenga información de estudiantes (nombre, edad, calificación) y use la función filter para extraer a los estudiantes con una calificación mayor o igual a 90."
   ]
  },
  {
   "cell_type": "code",
   "execution_count": 29,
   "metadata": {},
   "outputs": [
    {
     "data": {
      "text/plain": [
       "[{'nombre': 'Ana', 'edad': 17, 'calificacion': 92},\n",
       " {'nombre': 'Pedro', 'edad': 17, 'calificacion': 95},\n",
       " {'nombre': 'Miguel', 'edad': 16, 'calificacion': 91}]"
      ]
     },
     "execution_count": 29,
     "metadata": {},
     "output_type": "execute_result"
    }
   ],
   "source": [
    "estudiantes = [\n",
    "    {\"nombre\": \"Juan\", \"edad\": 16, \"calificacion\": 85},\n",
    "    {\"nombre\": \"Ana\", \"edad\": 17, \"calificacion\": 92},\n",
    "    {\"nombre\": \"Luis\", \"edad\": 16, \"calificacion\": 78},\n",
    "    {\"nombre\": \"Sofía\", \"edad\": 18, \"calificacion\": 88},\n",
    "    {\"nombre\": \"Pedro\", \"edad\": 17, \"calificacion\": 95},\n",
    "    {\"nombre\": \"María\", \"edad\": 16, \"calificacion\": 70},\n",
    "    {\"nombre\": \"Carlos\", \"edad\": 18, \"calificacion\": 60},\n",
    "    {\"nombre\": \"Lucía\", \"edad\": 17, \"calificacion\": 82},\n",
    "    {\"nombre\": \"Miguel\", \"edad\": 16, \"calificacion\": 91},\n",
    "    {\"nombre\": \"Elena\", \"edad\": 18, \"calificacion\": 73}\n",
    "]\n",
    "\n",
    "list(filter(lambda x: x['calificacion']>=90,estudiantes))"
   ]
  },
  {
   "cell_type": "markdown",
   "metadata": {},
   "source": [
    "## Ejercicio 3. Reduce ()"
   ]
  },
  {
   "cell_type": "markdown",
   "metadata": {},
   "source": [
    "3.1 Crea una función que tome una lista de dígitos y devuelva el número correspondiente. Por ejemplo, [5,7,2] corresponde al número quinientos setenta y dos (572).\n"
   ]
  },
  {
   "cell_type": "code",
   "execution_count": 15,
   "metadata": {},
   "outputs": [
    {
     "data": {
      "text/plain": [
       "95486"
      ]
     },
     "execution_count": 15,
     "metadata": {},
     "output_type": "execute_result"
    }
   ],
   "source": [
    "from functools import reduce\n",
    "\n",
    "lista_digitos = random.sample(range(1,10),5)\n",
    "\n",
    "reduce(lambda d1,d2: int(str(d1)+str(d2)), lista_digitos)"
   ]
  },
  {
   "cell_type": "markdown",
   "metadata": {},
   "source": [
    "3.2. Dada una lista de números enteros, obtén el producto total de los valores de dicha lista"
   ]
  },
  {
   "cell_type": "code",
   "execution_count": 5,
   "metadata": {},
   "outputs": [
    {
     "data": {
      "text/plain": [
       "252"
      ]
     },
     "execution_count": 5,
     "metadata": {},
     "output_type": "execute_result"
    }
   ],
   "source": [
    "lista_digitos = random.sample(range(1,10),5)\n",
    "\n",
    "reduce(lambda d1,d2: d1*d2, lista_digitos)"
   ]
  },
  {
   "cell_type": "markdown",
   "metadata": {},
   "source": [
    "\n",
    "3.3. Concatena una lista de palabras. Por ejemplo:\n",
    "\n",
    "```python\n",
    "# input\n",
    "lista_int_str = ['Un', 'mago', 'nunca']\n",
    "\n",
    "# output\n",
    "'Unmagonunca'\n",
    "```"
   ]
  },
  {
   "cell_type": "code",
   "execution_count": 7,
   "metadata": {},
   "outputs": [
    {
     "data": {
      "text/plain": [
       "'Aquiennolevagustáhh'"
      ]
     },
     "execution_count": 7,
     "metadata": {},
     "output_type": "execute_result"
    }
   ],
   "source": [
    "lista_palabras = [\"A\",\"quien\",\"no\",\"le\",\"va\",\"gustáhh\"]\n",
    "\n",
    "reduce(lambda word1,word2: word1+word2, lista_palabras)"
   ]
  },
  {
   "cell_type": "markdown",
   "metadata": {},
   "source": [
    "\n",
    "\n",
    "3.4. Calcula la diferencia total en los valores de una lista, es decir, crea un programa que vaya restando todos sus elementos.\n"
   ]
  },
  {
   "cell_type": "code",
   "execution_count": 9,
   "metadata": {},
   "outputs": [
    {
     "data": {
      "text/plain": [
       "-21"
      ]
     },
     "execution_count": 9,
     "metadata": {},
     "output_type": "execute_result"
    }
   ],
   "source": [
    "lista_digitos = random.sample(range(1,10),5)\n",
    "\n",
    "reduce(lambda d1,d2: d1-d2, lista_digitos)"
   ]
  },
  {
   "cell_type": "markdown",
   "metadata": {},
   "source": [
    "## Ejercicio 4. Ejercicios combinando las funciones"
   ]
  },
  {
   "cell_type": "markdown",
   "metadata": {},
   "source": [
    "4.1. Dada una lista de números, filtra los números positivos y calcula su promedio."
   ]
  },
  {
   "cell_type": "code",
   "execution_count": 16,
   "metadata": {},
   "outputs": [
    {
     "data": {
      "text/plain": [
       "3.6666666666666665"
      ]
     },
     "execution_count": 16,
     "metadata": {},
     "output_type": "execute_result"
    }
   ],
   "source": [
    "import random \n",
    "lista_numeros = random.sample(range(-5,10),4)\n",
    "\n",
    "filtro = list(filter(lambda num: num > 0, lista_numeros))\n",
    "division = map(lambda num: num/len(filtro),filtro)\n",
    "promedio = reduce(lambda num1,num2: num1+num2,division)\n",
    "\n",
    "promedio"
   ]
  },
  {
   "cell_type": "markdown",
   "metadata": {},
   "source": [
    "#### cositas raras"
   ]
  },
  {
   "cell_type": "code",
   "execution_count": 6,
   "metadata": {},
   "outputs": [
    {
     "name": "stdout",
     "output_type": "stream",
     "text": [
      "<filter object at 0x00000230DE1ECC10>\n",
      "[9, 3, 1]\n",
      "<filter object at 0x00000230DE1ECC10>\n",
      "[]\n"
     ]
    }
   ],
   "source": [
    "filtro = filter(lambda num: num > 0, lista_numeros)\n",
    "print(filtro)\n",
    "print(list(filtro))\n",
    "print(filtro)\n",
    "print(list(filtro))\n"
   ]
  },
  {
   "cell_type": "code",
   "execution_count": 10,
   "metadata": {},
   "outputs": [
    {
     "name": "stdout",
     "output_type": "stream",
     "text": [
      "<zip object at 0x00000230DE6CAC00>\n",
      "[(9, 9), (3, 3), (-1, -1), (1, 1)]\n",
      "<zip object at 0x00000230DE6CAC00>\n",
      "[]\n"
     ]
    }
   ],
   "source": [
    "zipeado = zip(lista_numeros,lista_numeros)\n",
    "print(zipeado)\n",
    "print(list(zipeado))\n",
    "print(zipeado)\n",
    "print(list(zipeado))\n"
   ]
  },
  {
   "cell_type": "code",
   "execution_count": null,
   "metadata": {},
   "outputs": [],
   "source": [
    "filtro = filter(lambda num: num > 0, lista_numeros)\n",
    "print(filtro)\n",
    "print(list(filtro))\n",
    "print(filtro)\n",
    "print(list(filtro))\n"
   ]
  },
  {
   "cell_type": "markdown",
   "metadata": {},
   "source": [
    "4.2. Dada una lista de palabras, filtra las palabras que empiezan con una vocal, conviértelas a mayúsculas, y luego concaténalas en una sola cadena. "
   ]
  },
  {
   "cell_type": "code",
   "execution_count": 64,
   "metadata": {},
   "outputs": [
    {
     "data": {
      "text/plain": [
       "'AEEH'"
      ]
     },
     "execution_count": 64,
     "metadata": {},
     "output_type": "execute_result"
    }
   ],
   "source": [
    "lista_palabras = [\"A\",\"quien\",\"no\",\"le\",\"va\",\"gustáhh\",\"eeh\"]\n",
    "\n",
    "filtro = filter(lambda word: word.lower()[0] in 'aeiou', lista_palabras)\n",
    "union = reduce(lambda word1,word2: (word1+word2).upper(),filtro)\n",
    "union"
   ]
  },
  {
   "cell_type": "markdown",
   "metadata": {},
   "source": [
    "\n",
    "4.3. Dada una lista numérica, filtra los números impares y calcula el producto de todos ellos \n"
   ]
  },
  {
   "cell_type": "code",
   "execution_count": 68,
   "metadata": {},
   "outputs": [
    {
     "data": {
      "text/plain": [
       "945"
      ]
     },
     "execution_count": 68,
     "metadata": {},
     "output_type": "execute_result"
    }
   ],
   "source": [
    "lista_numeros = random.sample(range(1,10),9)\n",
    "\n",
    "filtro = filter(lambda num: num % 2 != 0, lista_numeros)\n",
    "producto = reduce(lambda num1,num2: num1*num2,filtro)\n",
    "producto"
   ]
  },
  {
   "cell_type": "markdown",
   "metadata": {},
   "source": [
    "\n",
    "4.4. Dada una lista de palabras, filtra las que contienen la letra 'a' y cuenta cuántas hay."
   ]
  },
  {
   "cell_type": "code",
   "execution_count": 70,
   "metadata": {},
   "outputs": [
    {
     "data": {
      "text/plain": [
       "3"
      ]
     },
     "execution_count": 70,
     "metadata": {},
     "output_type": "execute_result"
    }
   ],
   "source": [
    "lista_palabras = [\"A\",\"quien\",\"no\",\"le\",\"va\",\"gustáhh\",\"eeh\",\"andaa\",\"que\",\"noo\"]\n",
    "\n",
    "filtro = filter(lambda word: 'a' in word.lower(), lista_palabras)\n",
    "conversion = map(lambda word: 1, filtro)\n",
    "conteo = reduce(lambda unidad1,unidad2: unidad1+unidad2,conversion)\n",
    "conteo"
   ]
  },
  {
   "cell_type": "code",
   "execution_count": null,
   "metadata": {},
   "outputs": [],
   "source": []
  }
 ],
 "metadata": {
  "kernelspec": {
   "display_name": "maven_course",
   "language": "python",
   "name": "maven_course"
  },
  "language_info": {
   "codemirror_mode": {
    "name": "ipython",
    "version": 3
   },
   "file_extension": ".py",
   "mimetype": "text/x-python",
   "name": "python",
   "nbconvert_exporter": "python",
   "pygments_lexer": "ipython3",
   "version": "3.12.3"
  }
 },
 "nbformat": 4,
 "nbformat_minor": 2
}
